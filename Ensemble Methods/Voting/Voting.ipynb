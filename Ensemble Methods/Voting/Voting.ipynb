{
 "cells": [
  {
   "cell_type": "code",
   "execution_count": null,
   "metadata": {},
   "outputs": [],
   "source": [
    "# Voting Ensemble Classifier is an ensemble learning technique that combines multiple individual \n",
    "# classifiers (base models) and aggregates their predictions to make a final prediction. \n",
    "# It can be used for both classification and regression tasks. The Voting Ensemble Classifier can \n",
    "# improve the overall prediction accuracy by leveraging the diversity of different models and \n",
    "# their collective decision-making.\n",
    "\n",
    "\n",
    "\n",
    "\n",
    "\n",
    "# There are two main types of Voting Ensemble Classifiers: Hard Voting and Soft Voting.\n",
    "\n",
    "# Hard Voting: In hard voting, each base model in the ensemble predicts the class label, \n",
    "# and the majority class label is selected as the final prediction.\n",
    "\n",
    "# Soft Voting: In soft voting, each base model predicts the class probabilities, and the average probabilities \n",
    "# across all models are calculated. The class label with the highest average probability is selected as the final prediction.\n",
    "\n"
   ]
  },
  {
   "cell_type": "code",
   "execution_count": 3,
   "metadata": {},
   "outputs": [],
   "source": [
    "import numpy as np\n",
    "import pandas as pd\n",
    "from sklearn.model_selection import train_test_split\n",
    "from sklearn.ensemble import VotingClassifier\n",
    "from sklearn.model_selection import GridSearchCV\n",
    "from sklearn.ensemble import RandomForestClassifier\n",
    "from sklearn.linear_model import LogisticRegression\n",
    "from sklearn.neighbors import KNeighborsClassifier\n"
   ]
  },
  {
   "cell_type": "code",
   "execution_count": 4,
   "metadata": {},
   "outputs": [],
   "source": [
    "from sklearn.datasets import make_blobs\n",
    "\n",
    "# Generate a random dataset with 2 classes\n",
    "X, y = make_blobs(n_samples=100000, centers=2, random_state=42)\n",
    "\n",
    "X_train, X_test, y_train, y_test = train_test_split(X, y, test_size=0.2, random_state=42)"
   ]
  },
  {
   "cell_type": "code",
   "execution_count": 5,
   "metadata": {},
   "outputs": [
    {
     "name": "stdout",
     "output_type": "stream",
     "text": [
      "VotingClassifier(estimators=[('rf', RandomForestClassifier()),\n",
      "                             ('lr', LogisticRegression()),\n",
      "                             ('knn', KNeighborsClassifier(n_neighbors=3))])\n",
      "{'knn__n_neighbors': 3, 'knn__weights': 'uniform', 'rf__n_estimators': 100}\n"
     ]
    }
   ],
   "source": [
    "model1 = RandomForestClassifier()\n",
    "model2 = LogisticRegression()\n",
    "model3 = KNeighborsClassifier()\n",
    "\n",
    "\n",
    "voting_classifier = VotingClassifier(\n",
    "    estimators=[('rf', model1), \n",
    "    ('lr', model2), \n",
    "    ('knn', model3)], voting='hard')\n",
    "\n",
    "\n",
    "params = {'rf__n_estimators': [100, 200, 300],\n",
    "          'knn__n_neighbors': [3, 5, 7],\n",
    "          'knn__weights': ['uniform', 'distance']}\n",
    "\n",
    "grid_search = GridSearchCV(estimator=voting_classifier, param_grid=params, cv=5)\n",
    "grid_search.fit(X_train, y_train)\n",
    "\n",
    "best_model = grid_search.best_estimator_\n",
    "print(best_model)\n",
    "\n",
    "print(grid_search.best_params_)\n"
   ]
  },
  {
   "cell_type": "code",
   "execution_count": 6,
   "metadata": {},
   "outputs": [],
   "source": [
    "y_pred = best_model.predict(X_test)\n"
   ]
  },
  {
   "cell_type": "code",
   "execution_count": 8,
   "metadata": {},
   "outputs": [
    {
     "name": "stdout",
     "output_type": "stream",
     "text": [
      "Accuracy: 1.0\n",
      "Confusion Matrix:\n",
      "[[ 9920     0]\n",
      " [    0 10080]]\n",
      "Classification Report:\n",
      "              precision    recall  f1-score   support\n",
      "\n",
      "           0       1.00      1.00      1.00      9920\n",
      "           1       1.00      1.00      1.00     10080\n",
      "\n",
      "    accuracy                           1.00     20000\n",
      "   macro avg       1.00      1.00      1.00     20000\n",
      "weighted avg       1.00      1.00      1.00     20000\n",
      "\n"
     ]
    }
   ],
   "source": [
    "from sklearn.metrics import accuracy_score, confusion_matrix, classification_report\n",
    "\n",
    "\n",
    "\n",
    "# Calculate accuracy score\n",
    "accuracy = accuracy_score(y_test, y_pred)\n",
    "print(\"Accuracy:\", accuracy)\n",
    "\n",
    "# Calculate confusion matrix\n",
    "confusion_mat = confusion_matrix(y_test, y_pred)\n",
    "print(\"Confusion Matrix:\")\n",
    "print(confusion_mat)\n",
    "\n",
    "# Generate classification report\n",
    "class_report = classification_report(y_test, y_pred)\n",
    "print(\"Classification Report:\")\n",
    "print(class_report)"
   ]
  },
  {
   "cell_type": "code",
   "execution_count": null,
   "metadata": {},
   "outputs": [],
   "source": [
    "        #              +-------------------+\n",
    "        #              |                   |\n",
    "        # +------------>    Base Models    |\n",
    "        # |            |                   |\n",
    "        # |            +--------+----------+\n",
    "        # |                     |\n",
    "        # |           +---------v--------+\n",
    "        # |           |                  |\n",
    "        # +----------->  Voting Ensemble |\n",
    "        #             |    Classifier    |\n",
    "        #             |                  |\n",
    "        #             +------------------+\n",
    "\n",
    "\n",
    "# the base models make predictions, and the Voting Ensemble \n",
    "# Classifier combines their predictions to make the final prediction.\n"
   ]
  }
 ],
 "metadata": {
  "kernelspec": {
   "display_name": "Python 3",
   "language": "python",
   "name": "python3"
  },
  "language_info": {
   "codemirror_mode": {
    "name": "ipython",
    "version": 3
   },
   "file_extension": ".py",
   "mimetype": "text/x-python",
   "name": "python",
   "nbconvert_exporter": "python",
   "pygments_lexer": "ipython3",
   "version": "3.11.1"
  },
  "orig_nbformat": 4
 },
 "nbformat": 4,
 "nbformat_minor": 2
}
