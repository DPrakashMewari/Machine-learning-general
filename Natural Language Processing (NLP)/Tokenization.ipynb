{
 "cells": [
  {
   "cell_type": "code",
   "execution_count": 4,
   "id": "ef53729a",
   "metadata": {},
   "outputs": [
    {
     "name": "stdout",
     "output_type": "stream",
     "text": [
      "showing info https://raw.githubusercontent.com/nltk/nltk_data/gh-pages/index.xml\n"
     ]
    },
    {
     "data": {
      "text/plain": [
       "True"
      ]
     },
     "execution_count": 4,
     "metadata": {},
     "output_type": "execute_result"
    }
   ],
   "source": [
    "import nltk\n",
    "nltk.download()\n"
   ]
  },
  {
   "cell_type": "code",
   "execution_count": 5,
   "id": "909f4c98",
   "metadata": {},
   "outputs": [],
   "source": [
    "paragraph = \"This is some type of paragaraph.This is some type of paragaraphThis is some type of paragaraphThis is some type of paragaraphThis is some type of paragaraphThis is some type of paragaraphThis is some type of paragaraphThis is some type of paragaraphThis is some type of paragaraphThis is some type of paragaraph\""
   ]
  },
  {
   "cell_type": "code",
   "execution_count": 7,
   "id": "c8eac7b5",
   "metadata": {},
   "outputs": [
    {
     "data": {
      "text/plain": [
       "['This is some type of paragaraph.This is some type of paragaraphThis is some type of paragaraphThis is some type of paragaraphThis is some type of paragaraphThis is some type of paragaraphThis is some type of paragaraphThis is some type of paragaraphThis is some type of paragaraphThis is some type of paragaraph']"
      ]
     },
     "execution_count": 7,
     "metadata": {},
     "output_type": "execute_result"
    }
   ],
   "source": [
    "sentences = nltk.sent_tokenize(paragraph)\n",
    "sentences"
   ]
  },
  {
   "cell_type": "code",
   "execution_count": 13,
   "id": "29df6d29",
   "metadata": {},
   "outputs": [
    {
     "data": {
      "text/plain": [
       "['This',\n",
       " 'is',\n",
       " 'some',\n",
       " 'type',\n",
       " 'of',\n",
       " 'paragaraph.This',\n",
       " 'is',\n",
       " 'some',\n",
       " 'type',\n",
       " 'of',\n",
       " 'paragaraphThis',\n",
       " 'is',\n",
       " 'some',\n",
       " 'type',\n",
       " 'of',\n",
       " 'paragaraphThis',\n",
       " 'is',\n",
       " 'some',\n",
       " 'type',\n",
       " 'of',\n",
       " 'paragaraphThis',\n",
       " 'is',\n",
       " 'some',\n",
       " 'type',\n",
       " 'of',\n",
       " 'paragaraphThis',\n",
       " 'is',\n",
       " 'some',\n",
       " 'type',\n",
       " 'of',\n",
       " 'paragaraphThis',\n",
       " 'is',\n",
       " 'some',\n",
       " 'type',\n",
       " 'of',\n",
       " 'paragaraphThis',\n",
       " 'is',\n",
       " 'some',\n",
       " 'type',\n",
       " 'of',\n",
       " 'paragaraphThis',\n",
       " 'is',\n",
       " 'some',\n",
       " 'type',\n",
       " 'of',\n",
       " 'paragaraphThis',\n",
       " 'is',\n",
       " 'some',\n",
       " 'type',\n",
       " 'of',\n",
       " 'paragaraph']"
      ]
     },
     "execution_count": 13,
     "metadata": {},
     "output_type": "execute_result"
    }
   ],
   "source": [
    "words=nltk.word_tokenize(paragraph)\n",
    "len(words)  # 51\n",
    "words"
   ]
  }
 ],
 "metadata": {
  "kernelspec": {
   "display_name": "Python 3",
   "language": "python",
   "name": "python3"
  },
  "language_info": {
   "codemirror_mode": {
    "name": "ipython",
    "version": 3
   },
   "file_extension": ".py",
   "mimetype": "text/x-python",
   "name": "python",
   "nbconvert_exporter": "python",
   "pygments_lexer": "ipython3",
   "version": "3.8.5"
  }
 },
 "nbformat": 4,
 "nbformat_minor": 5
}
