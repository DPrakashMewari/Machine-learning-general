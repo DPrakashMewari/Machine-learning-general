{
 "cells": [
  {
   "cell_type": "code",
   "execution_count": 3,
   "id": "c9b4f4bf-13b6-4f49-a6c4-da3299c5999a",
   "metadata": {},
   "outputs": [],
   "source": [
    "import tensorflow as tf \n"
   ]
  },
  {
   "cell_type": "code",
   "execution_count": 4,
   "id": "a022c681-09f0-4f5d-a6c1-674193962ff2",
   "metadata": {},
   "outputs": [],
   "source": [
    "from tensorflow.keras.preprocessing.text import one_hot "
   ]
  },
  {
   "cell_type": "code",
   "execution_count": 24,
   "id": "4879e761-7259-4e78-a318-179df241ee31",
   "metadata": {},
   "outputs": [],
   "source": [
    "sent = ['the glass of dud','the i AM Sherpa','Welcom to my home','One pecie is good cartoon']"
   ]
  },
  {
   "cell_type": "code",
   "execution_count": 25,
   "id": "eb7a7fab-6fdc-47c2-92e8-d310aadb7ead",
   "metadata": {},
   "outputs": [
    {
     "data": {
      "text/plain": [
       "['the glass of dud',\n",
       " 'the i AM Sherpa',\n",
       " 'Welcom to my home',\n",
       " 'One pecie is good cartoon']"
      ]
     },
     "execution_count": 25,
     "metadata": {},
     "output_type": "execute_result"
    }
   ],
   "source": [
    "sent"
   ]
  },
  {
   "cell_type": "code",
   "execution_count": 26,
   "id": "ec6e989b-eea4-4a6b-94b5-c2acff2fb7dc",
   "metadata": {},
   "outputs": [],
   "source": [
    "vocab_size = 500"
   ]
  },
  {
   "cell_type": "code",
   "execution_count": 32,
   "id": "d994f142-4bac-42d2-a1ce-bf5528a8db35",
   "metadata": {},
   "outputs": [],
   "source": [
    "onehotrep= [one_hot(word,vocab_size) for word in sent]  # value ranges between 0 - 500,larger the better "
   ]
  },
  {
   "cell_type": "code",
   "execution_count": 30,
   "id": "8437b3e7-431a-4f04-a0ac-b0dad70d435b",
   "metadata": {},
   "outputs": [],
   "source": [
    "# Now the size of the length is different is issue \n",
    "# solution is padding : pre padding "
   ]
  },
  {
   "cell_type": "code",
   "execution_count": 31,
   "id": "8bb33fa1-858f-4e68-80b6-c0de18ddf792",
   "metadata": {},
   "outputs": [],
   "source": [
    "import numpy as np "
   ]
  },
  {
   "cell_type": "code",
   "execution_count": 23,
   "id": "481767a1-7665-448d-92b7-4c3f344761b6",
   "metadata": {},
   "outputs": [],
   "source": [
    "from tensorflow.keras.layers import Embedding\n",
    "from tensorflow.keras.preprocessing.sequence import pad_sequences\n",
    "from tensorflow.keras.models import Sequential"
   ]
  },
  {
   "cell_type": "code",
   "execution_count": 35,
   "id": "76760cf8-2903-4fa5-b5b8-cae86ee1797a",
   "metadata": {},
   "outputs": [
    {
     "name": "stdout",
     "output_type": "stream",
     "text": [
      "[[  0   0   0   0 469  28 397 111]\n",
      " [  0   0   0   0 469 207 418 201]\n",
      " [  0   0   0   0  80 453 447 280]\n",
      " [  0   0   0 468 100 259 170 420]]\n"
     ]
    }
   ],
   "source": [
    "## pre padding\n",
    "sent_length=8\n",
    "embedded_docs=pad_sequences(onehotrep,padding='pre',maxlen=sent_length)\n",
    "print(embedded_docs)"
   ]
  },
  {
   "cell_type": "code",
   "execution_count": 36,
   "id": "fae4fcbc-1453-417f-90e2-1de24f3ddfcb",
   "metadata": {},
   "outputs": [],
   "source": [
    "## 10 feature dimesnions\n",
    "dim=10"
   ]
  },
  {
   "cell_type": "code",
   "execution_count": 38,
   "id": "3a88a1a7-e66e-412a-8a1d-d5673b2ca6f2",
   "metadata": {},
   "outputs": [],
   "source": [
    "model=Sequential()\n",
    "model.add(Embedding(vocab_size,10,input_length=sent_length))\n",
    "model.compile('adam','mse')"
   ]
  },
  {
   "cell_type": "code",
   "execution_count": 39,
   "id": "e30d59e8-792c-457a-9180-e79879315efc",
   "metadata": {},
   "outputs": [
    {
     "name": "stdout",
     "output_type": "stream",
     "text": [
      "Model: \"sequential_1\"\n",
      "_________________________________________________________________\n",
      " Layer (type)                Output Shape              Param #   \n",
      "=================================================================\n",
      " embedding (Embedding)       (None, 8, 10)             5000      \n",
      "                                                                 \n",
      "=================================================================\n",
      "Total params: 5000 (19.53 KB)\n",
      "Trainable params: 5000 (19.53 KB)\n",
      "Non-trainable params: 0 (0.00 Byte)\n",
      "_________________________________________________________________\n",
      "None\n"
     ]
    }
   ],
   "source": [
    "print(model.summary())"
   ]
  },
  {
   "cell_type": "code",
   "execution_count": 41,
   "id": "cf0eb0d4-a1fb-45d3-8837-32cd378f943d",
   "metadata": {},
   "outputs": [
    {
     "data": {
      "text/plain": [
       "array([  0,   0,   0,   0, 469,  28, 397, 111], dtype=int32)"
      ]
     },
     "execution_count": 41,
     "metadata": {},
     "output_type": "execute_result"
    }
   ],
   "source": [
    "##'the glass of dud',\n",
    "embedded_docs[0]"
   ]
  },
  {
   "cell_type": "code",
   "execution_count": 42,
   "id": "92f7fa33-1f40-4d59-b312-d0134ccd299c",
   "metadata": {},
   "outputs": [
    {
     "name": "stdout",
     "output_type": "stream",
     "text": [
      "1/1 [==============================] - 0s 356ms/step\n"
     ]
    },
    {
     "data": {
      "text/plain": [
       "array([[ 0.03740288,  0.02825699,  0.04010752,  0.00886543,  0.01602744,\n",
       "        -0.0146568 , -0.00649637,  0.02796901,  0.04211906,  0.01060031],\n",
       "       [ 0.03740288,  0.02825699,  0.04010752,  0.00886543,  0.01602744,\n",
       "        -0.0146568 , -0.00649637,  0.02796901,  0.04211906,  0.01060031],\n",
       "       [ 0.03740288,  0.02825699,  0.04010752,  0.00886543,  0.01602744,\n",
       "        -0.0146568 , -0.00649637,  0.02796901,  0.04211906,  0.01060031],\n",
       "       [ 0.03740288,  0.02825699,  0.04010752,  0.00886543,  0.01602744,\n",
       "        -0.0146568 , -0.00649637,  0.02796901,  0.04211906,  0.01060031],\n",
       "       [ 0.02765976, -0.04348774, -0.01168207, -0.02341995,  0.00314077,\n",
       "        -0.04542744, -0.02603799, -0.02794515, -0.02652247,  0.00631015],\n",
       "       [ 0.00112586,  0.00339755, -0.0065472 ,  0.01867275,  0.01246948,\n",
       "         0.00289349,  0.03912527,  0.02739287, -0.0030725 ,  0.00875843],\n",
       "       [-0.00274277, -0.01344056,  0.01095029, -0.02185522,  0.00201272,\n",
       "         0.01220776,  0.03772581,  0.00437812,  0.01186603, -0.00546116],\n",
       "       [ 0.02206811,  0.04772386, -0.02451971, -0.04401487, -0.01897253,\n",
       "         0.01350058,  0.00353484, -0.03856658,  0.03730926,  0.03934062]],\n",
       "      dtype=float32)"
      ]
     },
     "execution_count": 42,
     "metadata": {},
     "output_type": "execute_result"
    }
   ],
   "source": [
    "model.predict(embedded_docs[0])"
   ]
  }
 ],
 "metadata": {
  "kernelspec": {
   "display_name": "Python 3 (ipykernel)",
   "language": "python",
   "name": "python3"
  },
  "language_info": {
   "codemirror_mode": {
    "name": "ipython",
    "version": 3
   },
   "file_extension": ".py",
   "mimetype": "text/x-python",
   "name": "python",
   "nbconvert_exporter": "python",
   "pygments_lexer": "ipython3",
   "version": "3.10.6"
  }
 },
 "nbformat": 4,
 "nbformat_minor": 5
}
