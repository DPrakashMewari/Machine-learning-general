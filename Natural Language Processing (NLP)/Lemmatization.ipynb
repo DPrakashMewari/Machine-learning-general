{
 "cells": [
  {
   "cell_type": "code",
   "execution_count": 23,
   "id": "33421912",
   "metadata": {},
   "outputs": [],
   "source": [
    "import nltk\n",
    "from nltk.stem import WordNetLemmatizer\n",
    "from nltk.corpus import stopwords"
   ]
  },
  {
   "cell_type": "code",
   "execution_count": 24,
   "id": "a289d80e",
   "metadata": {},
   "outputs": [],
   "source": [
    "lemmatizer = WordNetLemmatizer()"
   ]
  },
  {
   "cell_type": "code",
   "execution_count": 31,
   "id": "25206088",
   "metadata": {},
   "outputs": [],
   "source": [
    "paragraph=\"\"\"\n",
    "Contrary to popular belief, Lorem Ipsum is not simply random text. It has roots in a piece of classical Latin literature from 45 BC, making it over 2000 years old. Richard McClintock, a Latin professor at Hampden-Sydney College in Virginia, looked up one of the more obscure Latin words, consectetur, from a Lorem Ipsum passage, and going through the cites of the word in classical literature, discovered the undoubtable source. Lorem Ipsum comes from sections 1.10.32 and 1.10.33 of \"de Finibus Bonorum et Malorum\" (The Extremes of Good and Evil) by Cicero, written in 45 BC. This book is a treatise on the theory of ethics, very popular during the Renaissance. The first line of Lorem Ipsum, \"Lorem ipsum dolor sit amet..\", comes from a line in section 1.10.32.\n",
    "\"\"\""
   ]
  },
  {
   "cell_type": "code",
   "execution_count": 32,
   "id": "42095db1",
   "metadata": {},
   "outputs": [],
   "source": [
    "sentence = nltk.sent_tokenize(paragraph)"
   ]
  },
  {
   "cell_type": "code",
   "execution_count": 33,
   "id": "bf986aef",
   "metadata": {},
   "outputs": [
    {
     "data": {
      "text/plain": [
       "['\\nContrary to popular belief, Lorem Ipsum is not simply random text.',\n",
       " 'It has roots in a piece of classical Latin literature from 45 BC, making it over 2000 years old.',\n",
       " 'Richard McClintock, a Latin professor at Hampden-Sydney College in Virginia, looked up one of the more obscure Latin words, consectetur, from a Lorem Ipsum passage, and going through the cites of the word in classical literature, discovered the undoubtable source.',\n",
       " 'Lorem Ipsum comes from sections 1.10.32 and 1.10.33 of \"de Finibus Bonorum et Malorum\" (The Extremes of Good and Evil) by Cicero, written in 45 BC.',\n",
       " 'This book is a treatise on the theory of ethics, very popular during the Renaissance.',\n",
       " 'The first line of Lorem Ipsum, \"Lorem ipsum dolor sit amet..\", comes from a line in section 1.10.32.']"
      ]
     },
     "execution_count": 33,
     "metadata": {},
     "output_type": "execute_result"
    }
   ],
   "source": [
    "sentence"
   ]
  },
  {
   "cell_type": "code",
   "execution_count": 34,
   "id": "dfc3b085",
   "metadata": {},
   "outputs": [],
   "source": [
    "for i in range(len(sentence)):\n",
    "    words = nltk.word_tokenize(sentence[i])\n",
    "    words = [lemmatizer.lemmatize(word) for word in words if word not in set(stopwords.words('english'))]\n",
    "    sentence[i] = ' '.join(words)"
   ]
  },
  {
   "cell_type": "code",
   "execution_count": 35,
   "id": "b17b2107",
   "metadata": {},
   "outputs": [
    {
     "data": {
      "text/plain": [
       "['Contrary popular belief , Lorem Ipsum simply random text .',\n",
       " 'It root piece classical Latin literature 45 BC , making 2000 year old .',\n",
       " 'Richard McClintock , Latin professor Hampden-Sydney College Virginia , looked one obscure Latin word , consectetur , Lorem Ipsum passage , going cite word classical literature , discovered undoubtable source .',\n",
       " \"Lorem Ipsum come section 1.10.32 1.10.33 `` de Finibus Bonorum et Malorum '' ( The Extremes Good Evil ) Cicero , written 45 BC .\",\n",
       " 'This book treatise theory ethic , popular Renaissance .',\n",
       " \"The first line Lorem Ipsum , `` Lorem ipsum dolor sit amet .. '' , come line section 1.10.32 .\"]"
      ]
     },
     "execution_count": 35,
     "metadata": {},
     "output_type": "execute_result"
    }
   ],
   "source": [
    "sentence"
   ]
  },
  {
   "cell_type": "code",
   "execution_count": null,
   "id": "4bf97935",
   "metadata": {},
   "outputs": [],
   "source": [
    "# Meaningful words with Lemmatization"
   ]
  }
 ],
 "metadata": {
  "kernelspec": {
   "display_name": "Python 3",
   "language": "python",
   "name": "python3"
  },
  "language_info": {
   "codemirror_mode": {
    "name": "ipython",
    "version": 3
   },
   "file_extension": ".py",
   "mimetype": "text/x-python",
   "name": "python",
   "nbconvert_exporter": "python",
   "pygments_lexer": "ipython3",
   "version": "3.8.5"
  }
 },
 "nbformat": 4,
 "nbformat_minor": 5
}
