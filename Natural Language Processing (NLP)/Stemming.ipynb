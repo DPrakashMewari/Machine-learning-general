{
 "cells": [
  {
   "cell_type": "code",
   "execution_count": 10,
   "id": "a9882367",
   "metadata": {},
   "outputs": [],
   "source": [
    "import nltk \n",
    "from nltk.stem import PorterStemmer\n",
    "from nltk.corpus import stopwords"
   ]
  },
  {
   "cell_type": "code",
   "execution_count": 2,
   "id": "b61b76ea",
   "metadata": {},
   "outputs": [],
   "source": [
    "paragraph = \"\"\"supreme god or deity. They instead focus on achieving enlightenment—a state of inner peace and wisdom. When followers reach this spiritual echelon, they’re said to have experienced nirvana.\n",
    "The religion’s founder, Buddha, is considered an extraordinary man, but not a god. The word Buddha means “enlightened.”\n",
    "The path to enlightenment is attained by utilizing morality, meditation and wisdom. Buddhists often meditate because they believe it helps awaken truth.\n",
    "There are many philosophies and interpretations within Buddhism, making it a tolerant and evolving religion.\n",
    "Some scholars don’t recognize Buddhism as an organized religion, but rather, a “way of life” or a “spiritual tradition.”\n",
    "Buddhism encourages its people to avoid self-indulgence but also self-denial.\n",
    "Buddha’s most important teachings, known as The Four Noble Truths, are essential to understanding the religion.\n",
    "Buddhists embrace the concepts of karma (the law of cause and effect) and reincarnation (the continuous cycle of rebirth).\n",
    "Followers of Buddhism can worship in temples or in their own homes.\n",
    "Buddhist monks, or bhikkhus, follow a strict code of conduct, which includes celibacy.\"\"\""
   ]
  },
  {
   "cell_type": "code",
   "execution_count": 3,
   "id": "61901811",
   "metadata": {},
   "outputs": [],
   "source": [
    "sentences = nltk.sent_tokenize(paragraph)"
   ]
  },
  {
   "cell_type": "code",
   "execution_count": 5,
   "id": "1263c6e7",
   "metadata": {},
   "outputs": [],
   "source": [
    "stemmer = PorterStemmer()"
   ]
  },
  {
   "cell_type": "code",
   "execution_count": 11,
   "id": "4a41466b",
   "metadata": {},
   "outputs": [],
   "source": [
    "# Stemming\n",
    "for i in range(len(sentences)):\n",
    "    words = nltk.word_tokenize(sentences[i])\n",
    "    words = [stemmer.stem(word) for word in words if word not in set(stopwords.words('english'))]\n",
    "    sentences[i] = ' '.join(words)   "
   ]
  },
  {
   "cell_type": "code",
   "execution_count": 12,
   "id": "7eec093d",
   "metadata": {},
   "outputs": [
    {
     "data": {
      "text/plain": [
       "['suprem god deiti .',\n",
       " 'they instead focu achiev enlightenment—a state inner peac wisdom .',\n",
       " 'when follow reach spiritu echelon , ’ said experienc nirvana .',\n",
       " 'the religion ’ founder , buddha , consid extraordinari man , god .',\n",
       " 'the word buddha mean “ enlightened. ” the path enlighten attain util moral , medit wisdom .',\n",
       " 'buddhist often medit believ help awaken truth .',\n",
       " 'there mani philosophi interpret within buddhism , make toler evolv religion .',\n",
       " 'some scholar ’ recogn buddhism organ religion , rather , “ way life ” “ spiritu tradition. ” buddhism encourag peopl avoid self-indulg also self-deni .',\n",
       " 'buddha ’ import teach , known the four nobl truth , essenti understand religion .',\n",
       " 'buddhist embrac concept karma ( law caus effect ) reincarn ( continu cycl rebirth ) .',\n",
       " 'follow buddhism worship templ home .',\n",
       " 'buddhist monk , bhikkhu , follow strict code conduct , includ celibaci .']"
      ]
     },
     "execution_count": 12,
     "metadata": {},
     "output_type": "execute_result"
    }
   ],
   "source": [
    "sentences"
   ]
  },
  {
   "cell_type": "code",
   "execution_count": null,
   "id": "64828dae",
   "metadata": {},
   "outputs": [],
   "source": [
    "# Coverting para into sentences \n",
    "# Intialise our stemmer\n",
    "# find stop words and remove and apply stemmer on it \n",
    "# Stemmer basically use for find word not not\n",
    "# exactly correct words but \n",
    "#some information will find by stemmer"
   ]
  }
 ],
 "metadata": {
  "kernelspec": {
   "display_name": "Python 3",
   "language": "python",
   "name": "python3"
  },
  "language_info": {
   "codemirror_mode": {
    "name": "ipython",
    "version": 3
   },
   "file_extension": ".py",
   "mimetype": "text/x-python",
   "name": "python",
   "nbconvert_exporter": "python",
   "pygments_lexer": "ipython3",
   "version": "3.8.5"
  }
 },
 "nbformat": 4,
 "nbformat_minor": 5
}
