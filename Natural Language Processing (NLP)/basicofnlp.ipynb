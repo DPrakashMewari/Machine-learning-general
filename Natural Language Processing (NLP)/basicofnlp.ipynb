{
 "cells": [
  {
   "cell_type": "code",
   "execution_count": 24,
   "metadata": {},
   "outputs": [],
   "source": [
    "paragraph = \"A little girl her name is aysh. she is so adorable and she is kind. She is brave too\"\n",
    "\n",
    "import nltk "
   ]
  },
  {
   "cell_type": "code",
   "execution_count": 25,
   "metadata": {},
   "outputs": [],
   "source": [
    "sentences = nltk.sent_tokenize(paragraph)"
   ]
  },
  {
   "cell_type": "code",
   "execution_count": 10,
   "metadata": {},
   "outputs": [
    {
     "name": "stdout",
     "output_type": "stream",
     "text": [
      "final\n",
      "mobil\n",
      "social\n"
     ]
    }
   ],
   "source": [
    "# Finding the root form using stemming \n",
    "from nltk import PorterStemmer\n",
    "\n",
    "stemmer = PorterStemmer()\n",
    "\n",
    "print(stemmer.stem(\"finalize\"))\n",
    "print(stemmer.stem('Mobilized'))\n",
    "print(stemmer.stem('Socializing'))"
   ]
  },
  {
   "cell_type": "code",
   "execution_count": 12,
   "metadata": {},
   "outputs": [
    {
     "data": {
      "text/plain": [
       "'Doing'"
      ]
     },
     "execution_count": 12,
     "metadata": {},
     "output_type": "execute_result"
    }
   ],
   "source": [
    "from nltk import WordNetLemmatizer\n",
    "lemmatizer = WordNetLemmatizer()\n",
    "\n",
    "lemmatizer.lemmatize('Doing')"
   ]
  },
  {
   "cell_type": "code",
   "execution_count": 16,
   "metadata": {},
   "outputs": [
    {
     "data": {
      "text/plain": [
       "'eating'"
      ]
     },
     "execution_count": 16,
     "metadata": {},
     "output_type": "execute_result"
    }
   ],
   "source": [
    "\n",
    "lemmatizer.lemmatize('eating')"
   ]
  },
  {
   "cell_type": "code",
   "execution_count": 26,
   "metadata": {},
   "outputs": [
    {
     "name": "stdout",
     "output_type": "stream",
     "text": [
      "['a', 'littl', 'girl', 'her', 'name', 'is', 'aysh', '.']\n",
      "['she', 'is', 'so', 'ador', 'and', 'she', 'is', 'kind', '.']\n",
      "['she', 'is', 'brave', 'too']\n"
     ]
    }
   ],
   "source": [
    "sent = []\n",
    "for i in range(len(sentences)):\n",
    "    words = nltk.word_tokenize(sentences[i])\n",
    "    words = [stemmer.stem(word) for word in words]\n",
    "    print(words)"
   ]
  },
  {
   "cell_type": "code",
   "execution_count": 28,
   "metadata": {},
   "outputs": [
    {
     "name": "stdout",
     "output_type": "stream",
     "text": [
      "['A', ' ', 'l', 'i', 't', 't', 'l', 'e', ' ', 'g', 'i', 'r', 'l', ' ', 'h', 'e', 'r', ' ', 'n', 'a', 'm', 'e', ' ', 'i', 's', ' ', 'a', 'y', 's', 'h', '.']\n",
      "['s', 'h', 'e', ' ', 'i', 's', ' ', 's', 'o', ' ', 'a', 'd', 'o', 'r', 'a', 'b', 'l', 'e', ' ', 'a', 'n', 'd', ' ', 's', 'h', 'e', ' ', 'i', 's', ' ', 'k', 'i', 'n', 'd', '.']\n",
      "['S', 'h', 'e', ' ', 'i', 's', ' ', 'b', 'r', 'a', 'v', 'e', ' ', 't', 'o', 'o']\n"
     ]
    }
   ],
   "source": [
    "sent = []\n",
    "for i in range(len(sentences)):\n",
    "    words = lemmatizer.lemmatize(sentences[i])\n",
    "    words = [lemmatizer.lemmatize(word) for word in words]\n",
    "    print(words)"
   ]
  },
  {
   "cell_type": "code",
   "execution_count": 27,
   "metadata": {},
   "outputs": [
    {
     "data": {
      "text/plain": [
       "['A little girl her name is aysh.',\n",
       " 'she is so adorable and she is kind.',\n",
       " 'She is brave too']"
      ]
     },
     "execution_count": 27,
     "metadata": {},
     "output_type": "execute_result"
    }
   ],
   "source": [
    "sentences"
   ]
  },
  {
   "cell_type": "code",
   "execution_count": null,
   "metadata": {},
   "outputs": [],
   "source": [
    "# Text Processing : \n",
    "\n",
    "# Tokenization \n",
    "# Removing Stopwords\n",
    "# Stemming and Lemmatization \n",
    "# Handling special characters using Regex  "
   ]
  },
  {
   "cell_type": "code",
   "execution_count": 29,
   "metadata": {},
   "outputs": [
    {
     "name": "stdout",
     "output_type": "stream",
     "text": [
      "['Tokenization', 'is', 'an', 'important', 'step', 'in', 'natural', 'language', 'processing', '.']\n",
      "['Tokenization is an important step in natural language processing.']\n"
     ]
    }
   ],
   "source": [
    "# Tokenization :\n",
    "# Example text\n",
    "text = \"Tokenization is an important step in natural language processing.\"\n",
    "\n",
    "# Tokenize into words\n",
    "tokens = nltk.word_tokenize(text)\n",
    "print(tokens)\n",
    "\n",
    "# Tokenize into sentences\n",
    "sentences = nltk.sent_tokenize(text)\n",
    "print(sentences)"
   ]
  },
  {
   "cell_type": "code",
   "execution_count": 32,
   "metadata": {},
   "outputs": [
    {
     "name": "stdout",
     "output_type": "stream",
     "text": [
      "{'ours', 'who', 'own', 'itself', 'during', 'then', 'has', \"doesn't\", 'by', 'is', 'as', 'no', 'when', 'mustn', 'than', \"it's\", 'm', 'aren', 'until', \"wasn't\", 'further', 'down', 'themselves', \"wouldn't\", 'haven', 'before', 'was', 'can', 'am', 'doesn', 'o', 'your', 'both', 'but', 'i', 'to', \"she's\", 'each', \"shouldn't\", 'wasn', 'once', \"you've\", 'its', 'against', 'same', 've', 'do', \"aren't\", 'theirs', 'while', 'about', 'doing', 'if', 'over', \"needn't\", 'very', 'll', 'himself', 'because', \"hasn't\", 'me', 'into', \"you'd\", 'now', 'more', 'for', 'be', 'yourselves', 'through', 'and', 'with', 'did', 'of', 'any', 'weren', 'between', 'under', 'from', 'having', 'there', 'have', 'y', 're', 'an', \"shan't\", 'below', 'their', 'again', 'up', 'her', \"won't\", 'or', \"don't\", 'don', 'been', \"mightn't\", 'hadn', 'won', 'how', 'some', 'were', 'such', 'had', 'above', 'hasn', 'too', 'shouldn', 'herself', 'nor', 'only', 'being', 'here', 'needn', 'his', 'them', 'my', 'which', 'few', \"should've\", \"didn't\", \"isn't\", 'ma', 'a', 'you', 'why', \"mustn't\", \"weren't\", 'he', 'at', 'in', 'all', 'yours', 'she', 'we', 'shan', 'him', 'hers', 'wouldn', 'ourselves', 'not', 'the', 'after', 'does', 'just', 'other', 'mightn', 'yourself', 'these', 'couldn', 'will', 'most', 'on', 'are', 'ain', 'that', 'they', 'those', 'off', \"hadn't\", 't', 'd', 'out', \"you'll\", 'it', 'this', \"that'll\", \"haven't\", 'what', 'isn', 'so', 'myself', \"couldn't\", \"you're\", 's', 'whom', 'should', 'where', 'our', 'didn'}\n",
      "['Tokenization', 'important', 'step', 'natural', 'language', 'processing', '.']\n"
     ]
    }
   ],
   "source": [
    "from nltk.corpus import stopwords\n",
    "from nltk.tokenize import word_tokenize\n",
    "\n",
    "# Example text\n",
    "text = \"Tokenization is an important step in natural language processing.\"\n",
    "\n",
    "# Get the list of stopwords\n",
    "stop_words = set(stopwords.words('english'))\n",
    "print(stop_words)\n",
    "# Tokenize the text 1st \n",
    "tokens = word_tokenize(text)\n",
    "# Remove stopwords 2nd \n",
    "filtered_tokens = [token for token in tokens if token.lower() not in stop_words]\n",
    "\n",
    "print(filtered_tokens)\n"
   ]
  },
  {
   "cell_type": "code",
   "execution_count": 33,
   "metadata": {},
   "outputs": [
    {
     "name": "stdout",
     "output_type": "stream",
     "text": [
      "['token', 'import', 'step', 'natur', 'languag', 'process', '.']\n"
     ]
    }
   ],
   "source": [
    "# Initialize stemmer, lemmatizer, and stopwords\n",
    "stemmer = PorterStemmer()\n",
    "lemmatizer = WordNetLemmatizer()\n",
    "stop_words = set(stopwords.words('english'))\n",
    "\n",
    "# Tokenize the text\n",
    "tokens = word_tokenize(text)\n",
    "\n",
    "# Remove stopwords, stem, and lemmatize the tokens\n",
    "filtered_tokens = [lemmatizer.lemmatize(stemmer.stem(token.lower())) for token in tokens if token.lower() not in stop_words]\n",
    "\n",
    "print(filtered_tokens)"
   ]
  },
  {
   "cell_type": "code",
   "execution_count": 40,
   "metadata": {},
   "outputs": [
    {
     "name": "stdout",
     "output_type": "stream",
     "text": [
      "['wd', 'dd', 'token', 'import', 'step', 'natur', 'languag', 'process', 'remov', 'special', 'charact', 'like']\n"
     ]
    }
   ],
   "source": [
    "import re \n",
    "# Special Char remove\n",
    "text = \"%wds #dd &****Tokenization is an important step in natural language processing. It removes special characters like @, #, $.\"\n",
    "\n",
    "# Initialize stemmer, lemmatizer, and stopwords\n",
    "stemmer = PorterStemmer()\n",
    "lemmatizer = WordNetLemmatizer()\n",
    "stop_words = set(stopwords.words('english'))\n",
    "\n",
    "# Remove special characters using regular expressions\n",
    "text = re.sub(r'[^\\w\\s]', '', text)\n",
    "\n",
    "# Tokenize the text\n",
    "tokens = word_tokenize(text)\n",
    "\n",
    "# Remove stopwords, stem, and lemmatize the tokens\n",
    "filtered_tokens = [lemmatizer.lemmatize(stemmer.stem(token.lower())) for token in tokens if token.lower() not in stop_words]\n",
    "\n",
    "print(filtered_tokens)"
   ]
  },
  {
   "cell_type": "code",
   "execution_count": null,
   "metadata": {},
   "outputs": [],
   "source": [
    "# Feature Extraction:\n",
    "\n",
    "# Bag of words \n",
    "# TF-IDF \n",
    "# Word2vec \n",
    "# GLOVE\n",
    "# DOC2VEC \n"
   ]
  },
  {
   "cell_type": "code",
   "execution_count": 1,
   "metadata": {},
   "outputs": [
    {
     "name": "stdout",
     "output_type": "stream",
     "text": [
      "Feature Names: ['and', 'apples', 'are', 'delicious', 'eat', 'eating', 'enjoy', 'love', 'oranges', 'to']\n",
      "Bag-of-Words Matrix:\n",
      " [[0 1 0 0 1 0 0 1 0 1]\n",
      " [0 1 1 1 0 0 0 0 0 0]\n",
      " [1 1 0 0 0 1 1 0 1 0]]\n"
     ]
    },
    {
     "name": "stderr",
     "output_type": "stream",
     "text": [
      "/opt/conda/lib/python3.10/site-packages/sklearn/utils/deprecation.py:87: FutureWarning: Function get_feature_names is deprecated; get_feature_names is deprecated in 1.0 and will be removed in 1.2. Please use get_feature_names_out instead.\n",
      "  warnings.warn(msg, category=FutureWarning)\n"
     ]
    }
   ],
   "source": [
    "# Bag of words \n",
    "\n",
    "from sklearn.feature_extraction.text import CountVectorizer\n",
    "\n",
    "# Example documents\n",
    "documents = [\n",
    "    \"I love to eat apples.\",\n",
    "    \"Apples are delicious.\",\n",
    "    \"I enjoy eating apples and oranges.\"\n",
    "]\n",
    "\n",
    "# Create an instance of CountVectorizer\n",
    "vectorizer = CountVectorizer()\n",
    "\n",
    "# Fit the vectorizer to the documents and transform the documents into a bag-of-words matrix\n",
    "bow_matrix = vectorizer.fit_transform(documents)\n",
    "\n",
    "# Get the feature names (words)\n",
    "feature_names = vectorizer.get_feature_names()\n",
    "\n",
    "# Print the feature names and the bag-of-words matrix\n",
    "print(\"Feature Names:\", feature_names)\n",
    "print(\"Bag-of-Words Matrix:\\n\", bow_matrix.toarray())\n"
   ]
  },
  {
   "cell_type": "code",
   "execution_count": 10,
   "metadata": {},
   "outputs": [
    {
     "name": "stdout",
     "output_type": "stream",
     "text": [
      "Document 1:\n",
      "  cat: 0.32401895323148033\n",
      "  chased: 0.5486117771118657\n",
      "  mouse: 0.41723339721076924\n",
      "  the: 0.6480379064629607\n",
      "Document 2:\n",
      "  at: 0.4591149044255913\n",
      "  barked: 0.4591149044255913\n",
      "  cat: 0.2711606585044521\n",
      "  dog: 0.4591149044255913\n",
      "  the: 0.5423213170089042\n",
      "Document 3:\n",
      "  and: 0.34663478992044555\n",
      "  away: 0.34663478992044555\n",
      "  cat: 0.20472809091871683\n",
      "  mouse: 0.2636246924033099\n",
      "  of: 0.34663478992044555\n",
      "  ran: 0.34663478992044555\n",
      "  scared: 0.34663478992044555\n",
      "  the: 0.40945618183743365\n",
      "  was: 0.34663478992044555\n"
     ]
    }
   ],
   "source": [
    "# TF-IDF \n",
    "\n",
    "from sklearn.feature_extraction.text import TfidfVectorizer\n",
    "\n",
    "# Corpus of documents\n",
    "documents = [\n",
    "    \"The cat chased the mouse\",\n",
    "    \"The dog barked at the cat\",\n",
    "    \"The mouse was scared of the cat and ran away\"\n",
    "]\n",
    "\n",
    "# Create the TF-IDF vectorizer\n",
    "vectorizer = TfidfVectorizer()\n",
    "\n",
    "vectorizer.fit(documents)\n",
    "\n",
    "# Transform the documents to TF-IDF representation\n",
    "tfidf_matrix = vectorizer.transform(documents)\n",
    "\n",
    "# Get the feature names (terms)\n",
    "feature_names = vectorizer.get_feature_names()\n",
    "\n",
    "# Product of TF and IDF : WHICH IS NOTHING BUT ALL FREQUENCY IN EACH DOCUMENT , IDF GLOBAL LESS BUT IMP TERMS PRODUCT\n",
    "# print(tfidf_matrix,'----',len(feature_names))\n",
    "\n",
    "\n",
    "# Print the TF-IDF scores for each document and term\n",
    "for doc_index, doc in enumerate(documents):\n",
    "    print(f\"Document {doc_index + 1}:\")\n",
    "    for term_index, term in enumerate(feature_names):\n",
    "        tfidf_score = tfidf_matrix[doc_index, term_index]\n",
    "        if tfidf_score > 0:\n",
    "            print(f\"  {term}: {tfidf_score}\")\n"
   ]
  }
 ],
 "metadata": {
  "kernelspec": {
   "display_name": "Python 3 (ipykernel)",
   "language": "python",
   "name": "python3"
  },
  "language_info": {
   "codemirror_mode": {
    "name": "ipython",
    "version": 3
   },
   "file_extension": ".py",
   "mimetype": "text/x-python",
   "name": "python",
   "nbconvert_exporter": "python",
   "pygments_lexer": "ipython3",
   "version": "3.10.6"
  }
 },
 "nbformat": 4,
 "nbformat_minor": 4
}
