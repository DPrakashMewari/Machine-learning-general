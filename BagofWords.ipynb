{
 "cells": [
  {
   "cell_type": "code",
   "execution_count": 3,
   "id": "af8b6c83",
   "metadata": {},
   "outputs": [],
   "source": [
    "import nltk \n",
    "import re\n",
    "from nltk.corpus import stopwords\n",
    "from nltk.stem.porter import PorterStemmer\n",
    "from nltk.stem import WordNetLemmatizer"
   ]
  },
  {
   "cell_type": "code",
   "execution_count": 2,
   "id": "ae78f6c1",
   "metadata": {},
   "outputs": [],
   "source": [
    "paragraph = \"\"\"Once Lord Rama was going to meet Agastya Muni. When sage Sutikshan hear this, he asked the Lord can I go with you? - Why do you want to go with Me? Lord Rama asked. - Because he is my Guru. - So if He is your Guru why did you leave him? - I did not leave Him,...\n",
    "Ramayana Lila: Lakshman never saw face of Sita!\n",
    "Ramayana Lila: Lakshman never saw face of Sita!\n",
    "When Ravana took Mother Sita, she threw her jewellery on the ground so Lord Ram would find it. When Lord Ram found it, He showed it to Lakshmana. He showed the ring, the bracelet, the necklace but Lakshmana did not recognize any of it!!! But when He showed Him the...\n",
    "Ramayana story: Jatayu sacrifice in fight with Ravana!\n",
    "Ramayana story: Jatayu sacrifice in fight with Ravana!\n",
    "In Ramayan, Jatayu was a very old vulture bird. When he met Ravana, he was very old. He was the King of the vultures but not very strong that time. He saw that Sita matha was in trouble and she was calling. Jatayu did not hesitate a moment to serve her. Not to save...\n",
    "Rama lila: Rama showed gratitude even to the horses\n",
    "Rama lila: Rama showed gratitude even to the horses\n",
    "When Rama was ordered to leave the kingdom by Kaikeyi, Sumantra took them in the chariot riding the horses. He left in the banks of the Ganges River. Guha was there in that place. Guha brought sumptuous food, comfortable beds and articles of worship to give Lord Rama...\n",
    "Ravana story: Ravana meet Vamana!\n",
    "Ravana story: Ravana meet Vamana!\n",
    "After taking away everything from Bali Lord Vamana become servant of Bali Maharaj He stood, as a servant, with the Gada in His hand. It is said that Bali’s palace in Sutal Loka, had twelve entrances. Ravana once went, to fight Bali. Nobody obstructed his path....\n",
    "Ramayana story: Rama tied up Vibhishana by embrace!\n",
    "Ramayana story: Rama tied up Vibhishana by embrace!\n",
    "When Vibhishan came to take shelter of Lord Ram, the Lord asked Sugreev what was his opinion. Sugreev said he is spying for Ravana, so we must tie him up. But when Vibhishan came into Lord Ram’s room, the Lord gave him a big hug! Sugreev was upset and said that you...\n",
    "Rama story: Why did Lord Shiva allow Mother Sati to give up Her body?\n",
    "It is said that when Ravana abducted Mother Sita, and Lord Ram was roaming around looking for Her, He was crying, shouting and moaning as He was so sad to have lost Her. Of course, the Lord was playing a role on earth as a human, so He had to display human emotions....\n",
    "Ramayana story: Permission for Rama from his mother!\n",
    "Ramayana story: Permission for Rama from his mother!\n",
    "In the Swayamwar of Sita, Vishwamitra asked Ram to try to pick up and break the bow. Ram first bowed down to the bow and then only did He pick it up and break it. So as per the rules of the Swayamwar, Sita came to accept Him as Her husband and put a garland round His...\n",
    "Ramayana lila: Jatayu and Lord Rama\n",
    "Ramayana lila: Jatayu and Lord Rama\n",
    "Jatayu was at the fag end of his life. He was the old retired king of vultures and had no strength left. But when he saw that Ravana was taking away what belongs to Lord Rama, he did not care about his senses, his body. He just cared about his seva – service. He...\n",
    "Rama Lila: Power of name of Lord Rama\n",
    "\"\"\""
   ]
  },
  {
   "cell_type": "code",
   "execution_count": 4,
   "id": "8678ae2f",
   "metadata": {},
   "outputs": [],
   "source": [
    "# Intialise Stemmer AND Lemmatization\n",
    "ps = PorterStemmer()\n",
    "wordnet = WordNetLemmatizer()"
   ]
  },
  {
   "cell_type": "code",
   "execution_count": 6,
   "id": "4942f043",
   "metadata": {},
   "outputs": [
    {
     "data": {
      "text/plain": [
       "['Once Lord Rama was going to meet Agastya Muni.',\n",
       " 'When sage Sutikshan hear this, he asked the Lord can I go with you?',\n",
       " '- Why do you want to go with Me?',\n",
       " 'Lord Rama asked.',\n",
       " '- Because he is my Guru.',\n",
       " '- So if He is your Guru why did you leave him?',\n",
       " '- I did not leave Him,...\\nRamayana Lila: Lakshman never saw face of Sita!',\n",
       " 'Ramayana Lila: Lakshman never saw face of Sita!',\n",
       " 'When Ravana took Mother Sita, she threw her jewellery on the ground so Lord Ram would find it.',\n",
       " 'When Lord Ram found it, He showed it to Lakshmana.',\n",
       " 'He showed the ring, the bracelet, the necklace but Lakshmana did not recognize any of it!!!',\n",
       " 'But when He showed Him the...\\nRamayana story: Jatayu sacrifice in fight with Ravana!',\n",
       " 'Ramayana story: Jatayu sacrifice in fight with Ravana!',\n",
       " 'In Ramayan, Jatayu was a very old vulture bird.',\n",
       " 'When he met Ravana, he was very old.',\n",
       " 'He was the King of the vultures but not very strong that time.',\n",
       " 'He saw that Sita matha was in trouble and she was calling.',\n",
       " 'Jatayu did not hesitate a moment to serve her.',\n",
       " 'Not to save...\\nRama lila: Rama showed gratitude even to the horses\\nRama lila: Rama showed gratitude even to the horses\\nWhen Rama was ordered to leave the kingdom by Kaikeyi, Sumantra took them in the chariot riding the horses.',\n",
       " 'He left in the banks of the Ganges River.',\n",
       " 'Guha was there in that place.',\n",
       " 'Guha brought sumptuous food, comfortable beds and articles of worship to give Lord Rama...\\nRavana story: Ravana meet Vamana!',\n",
       " 'Ravana story: Ravana meet Vamana!',\n",
       " 'After taking away everything from Bali Lord Vamana become servant of Bali Maharaj He stood, as a servant, with the Gada in His hand.',\n",
       " 'It is said that Bali’s palace in Sutal Loka, had twelve entrances.',\n",
       " 'Ravana once went, to fight Bali.',\n",
       " 'Nobody obstructed his path....\\nRamayana story: Rama tied up Vibhishana by embrace!',\n",
       " 'Ramayana story: Rama tied up Vibhishana by embrace!',\n",
       " 'When Vibhishan came to take shelter of Lord Ram, the Lord asked Sugreev what was his opinion.',\n",
       " 'Sugreev said he is spying for Ravana, so we must tie him up.',\n",
       " 'But when Vibhishan came into Lord Ram’s room, the Lord gave him a big hug!',\n",
       " 'Sugreev was upset and said that you...\\nRama story: Why did Lord Shiva allow Mother Sati to give up Her body?',\n",
       " 'It is said that when Ravana abducted Mother Sita, and Lord Ram was roaming around looking for Her, He was crying, shouting and moaning as He was so sad to have lost Her.',\n",
       " 'Of course, the Lord was playing a role on earth as a human, so He had to display human emotions....\\nRamayana story: Permission for Rama from his mother!',\n",
       " 'Ramayana story: Permission for Rama from his mother!',\n",
       " 'In the Swayamwar of Sita, Vishwamitra asked Ram to try to pick up and break the bow.',\n",
       " 'Ram first bowed down to the bow and then only did He pick it up and break it.',\n",
       " 'So as per the rules of the Swayamwar, Sita came to accept Him as Her husband and put a garland round His...\\nRamayana lila: Jatayu and Lord Rama\\nRamayana lila: Jatayu and Lord Rama\\nJatayu was at the fag end of his life.',\n",
       " 'He was the old retired king of vultures and had no strength left.',\n",
       " 'But when he saw that Ravana was taking away what belongs to Lord Rama, he did not care about his senses, his body.',\n",
       " 'He just cared about his seva – service.',\n",
       " 'He...\\nRama Lila: Power of name of Lord Rama']"
      ]
     },
     "execution_count": 6,
     "metadata": {},
     "output_type": "execute_result"
    }
   ],
   "source": [
    "Sentence = nltk.sent_tokenize(paragraph)\n",
    "Sentence"
   ]
  },
  {
   "cell_type": "code",
   "execution_count": 15,
   "id": "96c8ca65",
   "metadata": {},
   "outputs": [],
   "source": [
    "# Do Some Cleaning on sentences\n",
    "corpus1 = []\n",
    "for i in range(len(Sentence)):\n",
    "    review = re.sub('[^a-zA-Z]',' ',Sentence[i])\n",
    "    review = review.lower()\n",
    "    review = review.split()\n",
    "    review = [wordnet.lemmatize(word) for word in review if not word in set(stopwords.words('english'))]\n",
    "    review = \" \".join(review)\n",
    "    corpus1.append(review)"
   ]
  },
  {
   "cell_type": "code",
   "execution_count": 13,
   "id": "477eb3c3",
   "metadata": {},
   "outputs": [
    {
     "data": {
      "text/plain": [
       "['lord rama go meet agastya muni',\n",
       " 'sage sutikshan hear ask lord go',\n",
       " 'want go',\n",
       " 'lord rama ask',\n",
       " 'guru']"
      ]
     },
     "execution_count": 13,
     "metadata": {},
     "output_type": "execute_result"
    }
   ],
   "source": [
    "# Cleaned corpus using stemmer\n",
    "corpus[:5]"
   ]
  },
  {
   "cell_type": "code",
   "execution_count": 17,
   "id": "88337945",
   "metadata": {},
   "outputs": [
    {
     "data": {
      "text/plain": [
       "['lord rama going meet agastya muni',\n",
       " 'sage sutikshan hear asked lord go',\n",
       " 'want go',\n",
       " 'lord rama asked',\n",
       " 'guru']"
      ]
     },
     "execution_count": 17,
     "metadata": {},
     "output_type": "execute_result"
    }
   ],
   "source": [
    "# Cleaned corpus using lemmatizer - More time\n",
    "corpus1[:5]"
   ]
  },
  {
   "cell_type": "code",
   "execution_count": 24,
   "id": "a556dfb9",
   "metadata": {},
   "outputs": [],
   "source": [
    "from sklearn.feature_extraction.text import CountVectorizer"
   ]
  },
  {
   "cell_type": "code",
   "execution_count": 28,
   "id": "bfbb445f",
   "metadata": {},
   "outputs": [
    {
     "data": {
      "text/plain": [
       "array([[0, 0, 1, ..., 0, 0, 0],\n",
       "       [0, 0, 0, ..., 0, 0, 0],\n",
       "       [0, 0, 0, ..., 0, 0, 0],\n",
       "       ...,\n",
       "       [0, 0, 0, ..., 0, 0, 0],\n",
       "       [0, 0, 0, ..., 0, 0, 0],\n",
       "       [0, 0, 0, ..., 0, 0, 0]])"
      ]
     },
     "execution_count": 28,
     "metadata": {},
     "output_type": "execute_result"
    }
   ],
   "source": [
    "cv = CountVectorizer()\n",
    "X=cv.fit_transform(corpus1).toarray()\n",
    "X"
   ]
  },
  {
   "cell_type": "code",
   "execution_count": 29,
   "id": "335d1440",
   "metadata": {},
   "outputs": [
    {
     "data": {
      "text/plain": [
       "(42, 166)"
      ]
     },
     "execution_count": 29,
     "metadata": {},
     "output_type": "execute_result"
    }
   ],
   "source": [
    "X.shape"
   ]
  },
  {
   "cell_type": "code",
   "execution_count": null,
   "id": "ef9723ea",
   "metadata": {},
   "outputs": [],
   "source": [
    "# Count Vectorizer Convert into Bag of words in a form of array!"
   ]
  }
 ],
 "metadata": {
  "kernelspec": {
   "display_name": "Python 3",
   "language": "python",
   "name": "python3"
  },
  "language_info": {
   "codemirror_mode": {
    "name": "ipython",
    "version": 3
   },
   "file_extension": ".py",
   "mimetype": "text/x-python",
   "name": "python",
   "nbconvert_exporter": "python",
   "pygments_lexer": "ipython3",
   "version": "3.8.5"
  }
 },
 "nbformat": 4,
 "nbformat_minor": 5
}
