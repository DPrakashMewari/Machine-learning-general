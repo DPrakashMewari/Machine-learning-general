{
 "cells": [
  {
   "cell_type": "code",
   "execution_count": null,
   "id": "719d89a8",
   "metadata": {},
   "outputs": [],
   "source": [
    "# INCREMENT Learning \n",
    "# Creme "
   ]
  },
  {
   "cell_type": "code",
   "execution_count": 1,
   "id": "3381dee9",
   "metadata": {},
   "outputs": [],
   "source": [
    "import math \n",
    "from creme import compose \n",
    "from creme import feature_extraction\n",
    "from creme import naive_bayes"
   ]
  },
  {
   "cell_type": "code",
   "execution_count": null,
   "id": "af19f85e",
   "metadata": {},
   "outputs": [],
   "source": [
    "# Here we need to keep our data in the form of tuple"
   ]
  },
  {
   "cell_type": "code",
   "execution_count": 2,
   "id": "72688694",
   "metadata": {},
   "outputs": [],
   "source": [
    "data = [('Patna Lucknow','Eligble'),\n",
    "        ('Pune Maharastra','Eligble'),\n",
    "       ('Mexico','Eligble'),\n",
    "       ('USA','Not Eligble')]"
   ]
  },
  {
   "cell_type": "code",
   "execution_count": 3,
   "id": "190b56c5",
   "metadata": {},
   "outputs": [
    {
     "data": {
      "text/plain": [
       "[('Patna Lucknow', 'Eligble'),\n",
       " ('Pune Maharastra', 'Eligble'),\n",
       " ('Mexico', 'Eligble'),\n",
       " ('USA', 'Not Eligble')]"
      ]
     },
     "execution_count": 3,
     "metadata": {},
     "output_type": "execute_result"
    }
   ],
   "source": [
    "data"
   ]
  },
  {
   "cell_type": "code",
   "execution_count": 7,
   "id": "e7c7d721",
   "metadata": {},
   "outputs": [],
   "source": [
    "model = compose.Pipeline(('tokenize',feature_extraction.BagOfWords(lowercase=False)),\n",
    "                         ('nb',naive_bayes.MultinomialNB(alpha=1)))"
   ]
  },
  {
   "cell_type": "code",
   "execution_count": 9,
   "id": "5d8b0960",
   "metadata": {},
   "outputs": [],
   "source": [
    "for sentence,label in data:\n",
    "    model = model.fit_one(sentence,label)"
   ]
  },
  {
   "cell_type": "code",
   "execution_count": 17,
   "id": "22c9182f",
   "metadata": {},
   "outputs": [
    {
     "data": {
      "text/plain": [
       "'Eligble'"
      ]
     },
     "execution_count": 17,
     "metadata": {},
     "output_type": "execute_result"
    }
   ],
   "source": [
    "newtext = 'Vietnam'\n",
    "model.predict_one(newtext)"
   ]
  },
  {
   "cell_type": "code",
   "execution_count": 18,
   "id": "bdcd27df",
   "metadata": {},
   "outputs": [
    {
     "data": {
      "text/plain": [
       "Pipeline (\n",
       "  BagOfWords (\n",
       "    on=None\n",
       "    strip_accents=True\n",
       "    lowercase=False\n",
       "    preprocessor=None\n",
       "    tokenizer=<built-in method findall of re.Pattern object at 0x7f6fe2c90d30>\n",
       "    ngram_range=(1, 1)\n",
       "  ),\n",
       "  MultinomialNB (\n",
       "    alpha=1\n",
       "  )\n",
       ")"
      ]
     },
     "execution_count": 18,
     "metadata": {},
     "output_type": "execute_result"
    }
   ],
   "source": [
    "model.fit_one('Vietnam','Neither') # New Category train"
   ]
  },
  {
   "cell_type": "code",
   "execution_count": 23,
   "id": "9a86b9bd",
   "metadata": {},
   "outputs": [
    {
     "data": {
      "text/plain": [
       "'Neither'"
      ]
     },
     "execution_count": 23,
     "metadata": {},
     "output_type": "execute_result"
    }
   ],
   "source": [
    "model.predict_one('Brazil Vietnam') # Incremental Training"
   ]
  },
  {
   "cell_type": "code",
   "execution_count": null,
   "id": "fd386b3b",
   "metadata": {},
   "outputs": [],
   "source": [
    "# Any New Categorical We can add \n",
    "# We can train our model on any new data or any number of time \n",
    "# Live Stream Data is also possible !\n"
   ]
  }
 ],
 "metadata": {
  "kernelspec": {
   "display_name": "Python 3",
   "language": "python",
   "name": "python3"
  },
  "language_info": {
   "codemirror_mode": {
    "name": "ipython",
    "version": 3
   },
   "file_extension": ".py",
   "mimetype": "text/x-python",
   "name": "python",
   "nbconvert_exporter": "python",
   "pygments_lexer": "ipython3",
   "version": "3.8.10"
  }
 },
 "nbformat": 4,
 "nbformat_minor": 5
}
